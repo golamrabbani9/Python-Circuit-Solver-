{
 "cells": [
  {
   "cell_type": "code",
   "execution_count": 2,
   "id": "b6bc52cd",
   "metadata": {},
   "outputs": [
    {
     "name": "stdout",
     "output_type": "stream",
     "text": [
      "Welcome to fast circuit calculation!\n",
      "1. Parallel circuit calculation.\n",
      "2. Wye to Delta Conversion\n",
      "3. Delta to Wye Conversion\n",
      "Please select which calculation you would like to calculate:2\n",
      "Wye to Delta Conversion:\n",
      "Type right leaf of Wye: 12\n",
      "Type left leaf of Wye: 23\n",
      "Type trail of Wye: 13\n",
      "The right side  of Delta R1:  60.916666666666664\n",
      "The left side of Delta R2:  31.782608695652176\n",
      "The base of Delta R3:  56.23076923076923\n",
      "Welcome GR.ops!!You are very lazy one.\n"
     ]
    }
   ],
   "source": [
    "print(\"Welcome to fast circuit calculation!\")\n",
    "print(\"1. Parallel circuit calculation.\")\n",
    "print(\"2. Wye to Delta Conversion\")\n",
    "print(\"3. Delta to Wye Conversion\")\n",
    "numbers=(input(\"Please select which calculation you would like to calculate:\"))\n",
    "\n",
    "\n",
    "def parallel():\n",
    "    print(\"parallel circuit calculation:\")\n",
    "    a = float(input(\"first resistor:\"))\n",
    "    b = float(input(\"second resistor:\"))\n",
    "    c = (a * b) / (a + b)\n",
    "    print(\"answer:\", c)\n",
    "\n",
    "\n",
    "def wyToDelta():\n",
    "    print(\"Wye to Delta Conversion:\")\n",
    "    Ra = float(input(\"Type right leaf of Wye: \"))\n",
    "    Rb = float(input(\"Type left leaf of Wye: \"))\n",
    "    Rc = float(input(\"Type trail of Wye: \"))\n",
    "    R1 = (Ra * Rb + Rb * Rc + Ra * Rc) / Ra\n",
    "    R2 = (Ra * Rb + Rb * Rc + Ra * Rc) / Rb\n",
    "    R3 = (Ra * Rb + Rb * Rc + Ra * Rc) / Rc\n",
    "\n",
    "    print(\"The right side  of Delta R1: \", R1)\n",
    "    print(\"The left side of Delta R2: \", R2)\n",
    "    print(\"The base of Delta R3: \", R3)\n",
    "    print(\"Welcome GR.ops!!You are very lazy one.\")\n",
    "\n",
    "\n",
    "def deltaToWy():\n",
    "    print(\"Delta to Wye Conversion:\")\n",
    "    Ra = float(input(\"Type base resistor of Delta: \"))\n",
    "    Rb = float(input(\"Type right side resistor of Delta: \"))\n",
    "    Rc = float(input(\"Type left side resistor of Delta: \"))\n",
    "    R1 = ((Rb * Rc) / (Ra + Rb + Rc))\n",
    "    R2 = ((Ra * Rb) / (Ra + Rb + Rc))\n",
    "    R3 = ((Ra * Rc) / (Ra + Rb + Rc))\n",
    "\n",
    "    print(\"The trail of Wye R1: \", R1)\n",
    "    print(\"The right leaf of Wye R2: \", R2)\n",
    "    print(\"The left leaf of Wye R3: \", R3)\n",
    "    print(\"Welcome GR.ops!!You are very lazy one.\")\n",
    "\n",
    "\n",
    "if numbers ==str(1):\n",
    "    parallel()\n",
    "elif numbers==str(2):\n",
    "    wyToDelta()\n",
    "elif number==str(3):\n",
    "    deltaToWy()\n",
    "else:\n",
    "    print(\"ops!sorry.you have dialed Wrong number\")"
   ]
  },
  {
   "cell_type": "code",
   "execution_count": null,
   "id": "b52be611",
   "metadata": {},
   "outputs": [],
   "source": []
  },
  {
   "cell_type": "code",
   "execution_count": null,
   "id": "b7fb505e",
   "metadata": {},
   "outputs": [],
   "source": []
  }
 ],
 "metadata": {
  "kernelspec": {
   "display_name": "Python 3",
   "language": "python",
   "name": "python3"
  },
  "language_info": {
   "codemirror_mode": {
    "name": "ipython",
    "version": 3
   },
   "file_extension": ".py",
   "mimetype": "text/x-python",
   "name": "python",
   "nbconvert_exporter": "python",
   "pygments_lexer": "ipython3",
   "version": "3.9.6"
  }
 },
 "nbformat": 4,
 "nbformat_minor": 5
}
